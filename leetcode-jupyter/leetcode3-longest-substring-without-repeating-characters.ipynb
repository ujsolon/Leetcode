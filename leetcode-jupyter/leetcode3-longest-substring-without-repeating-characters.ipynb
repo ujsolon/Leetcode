{
 "cells": [
  {
   "cell_type": "code",
   "execution_count": 1,
   "id": "f700bd2b",
   "metadata": {},
   "outputs": [
    {
     "name": "stdout",
     "output_type": "stream",
     "text": [
      "[32]\n",
      "0\n",
      " \n"
     ]
    },
    {
     "data": {
      "text/plain": [
       "1"
      ]
     },
     "execution_count": 1,
     "metadata": {},
     "output_type": "execute_result"
    }
   ],
   "source": [
    "s = ' '\n",
    "snum = []\n",
    "for x in s:\n",
    "   snum.append(ord(x))\n",
    "print(snum)\n",
    "\n",
    "stringmax = 0\n",
    "stringlen = 0\n",
    "for i in range(len(s)):\n",
    "    keystart = i\n",
    "    substring = []\n",
    "    while i<=len(s)-1 and s[i] not in substring:\n",
    "        print(i)\n",
    "        print(s[i])\n",
    "        substring.append(s[i])\n",
    "        stringlen = len(substring)\n",
    "        if stringlen >= stringmax:\n",
    "            stringmax = stringlen\n",
    "        i+=1\n",
    "\n",
    "ans = stringmax\n",
    "ans"
   ]
  },
  {
   "cell_type": "code",
   "execution_count": 30,
   "id": "e383aabe",
   "metadata": {},
   "outputs": [],
   "source": [
    "s = ' '\n",
    "snum = []\n",
    "for x in s:\n",
    "   snum.append(ord(x))"
   ]
  },
  {
   "cell_type": "code",
   "execution_count": 16,
   "id": "c4bc1bc7",
   "metadata": {},
   "outputs": [
    {
     "data": {
      "text/plain": [
       "6"
      ]
     },
     "execution_count": 16,
     "metadata": {},
     "output_type": "execute_result"
    }
   ],
   "source": [
    "keystartmax"
   ]
  },
  {
   "cell_type": "code",
   "execution_count": 20,
   "id": "9ba713fe",
   "metadata": {},
   "outputs": [
    {
     "data": {
      "text/plain": [
       "3"
      ]
     },
     "execution_count": 20,
     "metadata": {},
     "output_type": "execute_result"
    }
   ],
   "source": [
    "stringmax"
   ]
  },
  {
   "cell_type": "code",
   "execution_count": null,
   "id": "ccbff03e",
   "metadata": {},
   "outputs": [],
   "source": []
  }
 ],
 "metadata": {
  "kernelspec": {
   "display_name": "Python 3 (ipykernel)",
   "language": "python",
   "name": "python3"
  },
  "language_info": {
   "codemirror_mode": {
    "name": "ipython",
    "version": 3
   },
   "file_extension": ".py",
   "mimetype": "text/x-python",
   "name": "python",
   "nbconvert_exporter": "python",
   "pygments_lexer": "ipython3",
   "version": "3.9.7"
  }
 },
 "nbformat": 4,
 "nbformat_minor": 5
}
