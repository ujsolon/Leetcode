{
 "cells": [
  {
   "cell_type": "code",
   "execution_count": 4,
   "id": "43f2e554",
   "metadata": {},
   "outputs": [],
   "source": [
    "numerals = {1: 'I', 2: 'II', 3: 'III', 4:'IV', 5: 'V', 6:'VI', 7:'VII', 8:'VIII', 9:'IX'}"
   ]
  },
  {
   "cell_type": "code",
   "execution_count": 7,
   "id": "9909f8f5",
   "metadata": {},
   "outputs": [
    {
     "name": "stdout",
     "output_type": "stream",
     "text": [
      "994\n",
      "94\n",
      "4\n",
      "0\n"
     ]
    }
   ],
   "source": [
    "print(1994%1000)\n",
    "print(1994%100)\n",
    "print(1994%10)"
   ]
  },
  {
   "cell_type": "code",
   "execution_count": 36,
   "id": "5eca90d5",
   "metadata": {},
   "outputs": [
    {
     "name": "stdout",
     "output_type": "stream",
     "text": [
      "MMDCCXLIX\n"
     ]
    }
   ],
   "source": [
    "chars = list(str(2749))\n",
    "thous = {'1': 'M', '2': 'MM', '3': 'MMM'}\n",
    "hunds = {'0':'', '1': 'C', '2': 'CC', '3': 'CCC', '4':'CD', '5': 'D', '6':'DC', '7':'DCC', '8':'DCCC', '9':'CM'}\n",
    "tens = {'0':'','1': 'X', '2': 'XX', '3': 'XXX', '4':'XL', '5': 'L', '6':'LX', '7':'LXX', '8':'LXXX', '9':'XC'}\n",
    "ones = {'0':'','1': 'I', '2': 'II', '3': 'III', '4':'IV', '5': 'V', '6':'VI', '7':'VII', '8':'VIII', '9':'IX'}\n",
    "if len(chars)==4:\n",
    "    romnum = thous[chars[0]]+hunds[chars[1]]+tens[chars[2]]+ones[chars[3]]\n",
    "if len(chars)==3:\n",
    "    romnum = hunds[chars[0]]+tens[chars[1]]+ones[chars[2]]\n",
    "if len(chars)==2:\n",
    "    romnum = tens[chars[0]]+ones[chars[1]]\n",
    "if len(chars)==1:\n",
    "    romnum = ones[chars[0]]\n",
    "print(romnum)"
   ]
  },
  {
   "cell_type": "code",
   "execution_count": 29,
   "id": "57fab233",
   "metadata": {},
   "outputs": [
    {
     "data": {
      "text/plain": [
       "['3']"
      ]
     },
     "execution_count": 29,
     "metadata": {},
     "output_type": "execute_result"
    }
   ],
   "source": [
    "list(str(3))"
   ]
  }
 ],
 "metadata": {
  "kernelspec": {
   "display_name": "Python 3 (ipykernel)",
   "language": "python",
   "name": "python3"
  },
  "language_info": {
   "codemirror_mode": {
    "name": "ipython",
    "version": 3
   },
   "file_extension": ".py",
   "mimetype": "text/x-python",
   "name": "python",
   "nbconvert_exporter": "python",
   "pygments_lexer": "ipython3",
   "version": "3.9.7"
  }
 },
 "nbformat": 4,
 "nbformat_minor": 5
}
