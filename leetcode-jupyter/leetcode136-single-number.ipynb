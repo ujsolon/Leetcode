{
 "cells": [
  {
   "cell_type": "code",
   "execution_count": 27,
   "id": "7e6c85fc",
   "metadata": {},
   "outputs": [
    {
     "name": "stdout",
     "output_type": "stream",
     "text": [
      "10\n",
      "[]\n"
     ]
    }
   ],
   "source": [
    "nums = [10]\n",
    "\n",
    "while len(nums)>=1:\n",
    "    currnum = nums[0]\n",
    "    nums.remove(currnum)\n",
    "    if currnum in nums:\n",
    "        nums.remove(currnum)\n",
    "    else:\n",
    "        ans = currnum\n",
    "        break\n",
    "print(ans)\n",
    "print(nums)"
   ]
  }
 ],
 "metadata": {
  "kernelspec": {
   "display_name": "Python 3 (ipykernel)",
   "language": "python",
   "name": "python3"
  },
  "language_info": {
   "codemirror_mode": {
    "name": "ipython",
    "version": 3
   },
   "file_extension": ".py",
   "mimetype": "text/x-python",
   "name": "python",
   "nbconvert_exporter": "python",
   "pygments_lexer": "ipython3",
   "version": "3.9.7"
  }
 },
 "nbformat": 4,
 "nbformat_minor": 5
}
