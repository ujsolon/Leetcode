{
 "cells": [
  {
   "cell_type": "code",
   "execution_count": 9,
   "id": "86e2b2f2",
   "metadata": {},
   "outputs": [
    {
     "data": {
      "text/plain": [
       "154"
      ]
     },
     "execution_count": 9,
     "metadata": {},
     "output_type": "execute_result"
    }
   ],
   "source": [
    "def multiplyList(myList) :\n",
    "    result = 1\n",
    "    for x in myList:\n",
    "         result = result * x\n",
    "    return result\n",
    "\n",
    "multiplyList(range(1,6))+multiplyList(range(1,5))+multiplyList(range(1,4))+multiplyList(range(1,3))+multiplyList(range(1,2))+multiplyList(range(1,1))"
   ]
  },
  {
   "cell_type": "code",
   "execution_count": 40,
   "id": "3e26c179",
   "metadata": {},
   "outputs": [
    {
     "data": {
      "text/plain": [
       "[[9, 5, 1],\n",
       " [15, 5, 1],\n",
       " [15, 9, 1],\n",
       " [15, 9, 5],\n",
       " [21, 5, 1],\n",
       " [21, 9, 1],\n",
       " [21, 9, 5],\n",
       " [21, 15, 1],\n",
       " [21, 15, 5],\n",
       " [21, 15, 9]]"
      ]
     },
     "execution_count": 40,
     "metadata": {},
     "output_type": "execute_result"
    }
   ],
   "source": [
    "import string\n",
    "\n",
    "def combs(a):\n",
    "    if len(a) == 0:\n",
    "        return [[]]\n",
    "    cs = []\n",
    "    for c in combs(a[1:]):\n",
    "        cs += [c, c+[a[0]]]\n",
    "    return cs\n",
    "\n",
    "def convert(l):\n",
    "    d = dict(zip(string.ascii_lowercase,range(1,27)))\n",
    "    return()\n",
    "\n",
    "k=3\n",
    "vowels = [\"a\",\"e\",\"i\",\"o\",\"u\"]\n",
    "d = dict(zip(string.ascii_lowercase,range(1,27)))\n",
    "klength = [x for x in combs(vowels) if len(x)==k]\n",
    "score = [ [d[y] for y in x] for x in klength]\n",
    "\n",
    "score"
   ]
  },
  {
   "cell_type": "code",
   "execution_count": 32,
   "id": "30615d58",
   "metadata": {},
   "outputs": [
    {
     "data": {
      "text/plain": [
       "5"
      ]
     },
     "execution_count": 32,
     "metadata": {},
     "output_type": "execute_result"
    }
   ],
   "source": [
    "import string\n",
    "d = dict(zip(string.ascii_lowercase,range(1,27)))\n",
    "d['e']"
   ]
  },
  {
   "cell_type": "markdown",
   "id": "c16d3375",
   "metadata": {},
   "source": [
    "Using itertools\n",
    "\n",
    "https://docs.python.org/3/library/itertools.html"
   ]
  },
  {
   "cell_type": "code",
   "execution_count": 41,
   "id": "4af96bda",
   "metadata": {},
   "outputs": [
    {
     "name": "stdout",
     "output_type": "stream",
     "text": [
      "COMBINATIONS WITH REPLACEMENTS OF STRING GEeks OF SIZE 2.\n",
      "[('G', 'G'), ('G', 'E'), ('G', 'e'), ('G', 'k'), ('G', 's'), ('E', 'E'), ('E', 'e'), ('E', 'k'), ('E', 's'), ('e', 'e'), ('e', 'k'), ('e', 's'), ('k', 'k'), ('k', 's'), ('s', 's')]\n"
     ]
    }
   ],
   "source": [
    "import itertools as it\n",
    "\n",
    "a =\"GEeks\"\n",
    " \n",
    "l = list(it.combinations_with_replacement(a, 2))\n",
    "print(\"COMBINATIONS WITH REPLACEMENTS OF STRING GEeks OF SIZE 2.\")\n",
    "print(l)"
   ]
  },
  {
   "cell_type": "code",
   "execution_count": 52,
   "id": "cd9c2c45",
   "metadata": {},
   "outputs": [
    {
     "data": {
      "text/plain": [
       "35"
      ]
     },
     "execution_count": 52,
     "metadata": {},
     "output_type": "execute_result"
    }
   ],
   "source": [
    "import string\n",
    "\n",
    "def combs(a):\n",
    "    if len(a) == 0:\n",
    "        return [[]]\n",
    "    cs = []\n",
    "    for c in combs(a[1:]):\n",
    "        cs += [c, c+[a[0]]]\n",
    "    return cs\n",
    "\n",
    "def convert(l):\n",
    "    d = dict(zip(string.ascii_lowercase,range(1,27)))\n",
    "    return()\n",
    "\n",
    "k=3\n",
    "vowels = [\"a\",\"e\",\"i\",\"o\",\"u\"]\n",
    "d = dict(zip(string.ascii_lowercase,range(1,27)))\n",
    "l = list(it.combinations_with_replacement(vowels, k))\n",
    "len(l)"
   ]
  },
  {
   "cell_type": "markdown",
   "id": "668e6893",
   "metadata": {},
   "source": [
    "Using the formula for combination with replacement/repetition\n",
    "\n",
    "https://en.wikipedia.org/wiki/Combination#Number_of_combinations_with_repetition"
   ]
  },
  {
   "cell_type": "code",
   "execution_count": 59,
   "id": "db236702",
   "metadata": {},
   "outputs": [
    {
     "data": {
      "text/plain": [
       "66045"
      ]
     },
     "execution_count": 59,
     "metadata": {},
     "output_type": "execute_result"
    }
   ],
   "source": [
    "import math\n",
    "\n",
    "n=5\n",
    "k=33\n",
    "ans = int(math.factorial(n+k-1)/(math.factorial(k)*math.factorial(n-1)))\n",
    "ans"
   ]
  },
  {
   "cell_type": "code",
   "execution_count": null,
   "id": "4b278b39",
   "metadata": {},
   "outputs": [],
   "source": []
  }
 ],
 "metadata": {
  "kernelspec": {
   "display_name": "Python 3 (ipykernel)",
   "language": "python",
   "name": "python3"
  },
  "language_info": {
   "codemirror_mode": {
    "name": "ipython",
    "version": 3
   },
   "file_extension": ".py",
   "mimetype": "text/x-python",
   "name": "python",
   "nbconvert_exporter": "python",
   "pygments_lexer": "ipython3",
   "version": "3.9.7"
  }
 },
 "nbformat": 4,
 "nbformat_minor": 5
}
