{
 "cells": [
  {
   "cell_type": "markdown",
   "id": "fe8597f1",
   "metadata": {},
   "source": [
    "https://stackoverflow.com/questions/464864/how-to-get-all-possible-combinations-of-a-list-s-elements"
   ]
  },
  {
   "cell_type": "code",
   "execution_count": 8,
   "id": "52e6651d",
   "metadata": {},
   "outputs": [
    {
     "data": {
      "text/plain": [
       "[[4, 3, 2], [5, 3, 1], [6, 2, 1]]"
      ]
     },
     "execution_count": 8,
     "metadata": {},
     "output_type": "execute_result"
    }
   ],
   "source": [
    "def combs(a):\n",
    "    if len(a) == 0:\n",
    "        return [[]]\n",
    "    cs = []\n",
    "    for c in combs(a[1:]):\n",
    "        cs += [c, c+[a[0]]]\n",
    "    return cs\n",
    "\n",
    "digits = [1,2,3,4,5,6,7,8,9]\n",
    "k=3\n",
    "n=9\n",
    "klength = [x for x in combs(digits) if len(x)==k]\n",
    "nsum = [x for x in klength if sum(x)==n]\n",
    "nsum"
   ]
  },
  {
   "cell_type": "code",
   "execution_count": null,
   "id": "26a2b92b",
   "metadata": {},
   "outputs": [],
   "source": []
  }
 ],
 "metadata": {
  "kernelspec": {
   "display_name": "Python 3 (ipykernel)",
   "language": "python",
   "name": "python3"
  },
  "language_info": {
   "codemirror_mode": {
    "name": "ipython",
    "version": 3
   },
   "file_extension": ".py",
   "mimetype": "text/x-python",
   "name": "python",
   "nbconvert_exporter": "python",
   "pygments_lexer": "ipython3",
   "version": "3.9.7"
  }
 },
 "nbformat": 4,
 "nbformat_minor": 5
}
