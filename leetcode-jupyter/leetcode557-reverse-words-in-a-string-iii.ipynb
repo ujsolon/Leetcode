{
 "cells": [
  {
   "cell_type": "code",
   "execution_count": 15,
   "id": "0cb5ace4",
   "metadata": {},
   "outputs": [
    {
     "data": {
      "text/plain": [
       "['Hey', 'you']"
      ]
     },
     "execution_count": 15,
     "metadata": {},
     "output_type": "execute_result"
    }
   ],
   "source": [
    "a=\"Hey you\"\n",
    "a.split()"
   ]
  },
  {
   "cell_type": "code",
   "execution_count": 13,
   "id": "302f7127",
   "metadata": {},
   "outputs": [
    {
     "data": {
      "text/plain": [
       "'uoy yeH'"
      ]
     },
     "execution_count": 13,
     "metadata": {},
     "output_type": "execute_result"
    }
   ],
   "source": [
    "def revstring(s):\n",
    "    return s[::-1]\n",
    "\n",
    "s=\"Hey you\"\n",
    "revstring(s)"
   ]
  },
  {
   "cell_type": "code",
   "execution_count": 23,
   "id": "e2497760",
   "metadata": {},
   "outputs": [
    {
     "data": {
      "text/plain": [
       "'yeH uoy'"
      ]
     },
     "execution_count": 23,
     "metadata": {},
     "output_type": "execute_result"
    }
   ],
   "source": [
    "s=\"\"\n",
    "for substring in a.split():\n",
    "    s+=revstring(substring)+\" \"\n",
    "s=s[0:len(s)-1]\n",
    "s"
   ]
  },
  {
   "cell_type": "code",
   "execution_count": 28,
   "id": "e8e12f1c",
   "metadata": {},
   "outputs": [
    {
     "name": "stdout",
     "output_type": "stream",
     "text": [
      "yeH uoy\n"
     ]
    }
   ],
   "source": [
    "def revstring(s):\n",
    "    return s[::-1]\n",
    "\n",
    "a=\"Hey you\"\n",
    "s=\"\"\n",
    "for substring in a.split():\n",
    "    s+=revstring(substring)+\" \"\n",
    "s=s[0:len(s)-1]\n",
    "ans=s\n",
    "print(ans)"
   ]
  }
 ],
 "metadata": {
  "kernelspec": {
   "display_name": "Python 3 (ipykernel)",
   "language": "python",
   "name": "python3"
  },
  "language_info": {
   "codemirror_mode": {
    "name": "ipython",
    "version": 3
   },
   "file_extension": ".py",
   "mimetype": "text/x-python",
   "name": "python",
   "nbconvert_exporter": "python",
   "pygments_lexer": "ipython3",
   "version": "3.9.7"
  }
 },
 "nbformat": 4,
 "nbformat_minor": 5
}
