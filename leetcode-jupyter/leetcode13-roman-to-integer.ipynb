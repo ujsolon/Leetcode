{
 "cells": [
  {
   "cell_type": "code",
   "execution_count": 4,
   "id": "9f15ba19",
   "metadata": {},
   "outputs": [
    {
     "data": {
      "text/plain": [
       "'s'"
      ]
     },
     "execution_count": 4,
     "metadata": {},
     "output_type": "execute_result"
    }
   ],
   "source": [
    "s = \"string\"\n",
    "s\n",
    "list(s)[0]"
   ]
  },
  {
   "cell_type": "code",
   "execution_count": 5,
   "id": "fbe56c9d",
   "metadata": {},
   "outputs": [
    {
     "name": "stdout",
     "output_type": "stream",
     "text": [
      "III IV V VI VIII VII VI V IV III II I "
     ]
    }
   ],
   "source": [
    "numerals = {'one':'I', 'two':'II', 'three':'III', 'four':'IV', 'five':'V',\n",
    "                'six':'VI', 'seven':'VII', 'eight':'VIII',\n",
    "                1: 'I', 2: 'II', 3: 'III', 4:'IV', 5: 'V', 6:'VI', 7:'VII', 8:'VIII'}\n",
    "for i in ['three', 'four', 'five', 'six']:\n",
    "     print(numerals[i], end=' ')\n",
    "\n",
    "for i in range(8,0,-1):\n",
    "     print(numerals[i], end=' ')"
   ]
  },
  {
   "cell_type": "code",
   "execution_count": 6,
   "id": "0c58cf4a",
   "metadata": {},
   "outputs": [],
   "source": [
    "numerals = {'I':1, 'V':5, 'X':10, \"L\":50, \"C\":100, \"D\":500, \"M\":1000}"
   ]
  },
  {
   "cell_type": "code",
   "execution_count": 7,
   "id": "7269be15",
   "metadata": {},
   "outputs": [
    {
     "data": {
      "text/plain": [
       "['I', 'I', 'I']"
      ]
     },
     "execution_count": 7,
     "metadata": {},
     "output_type": "execute_result"
    }
   ],
   "source": []
  },
  {
   "cell_type": "code",
   "execution_count": 30,
   "id": "80bd43f4",
   "metadata": {},
   "outputs": [
    {
     "name": "stdout",
     "output_type": "stream",
     "text": [
      "['M', 'C', 'M', 'X', 'C', 'I', 'V']\n",
      "CM\n",
      "XC\n",
      "IV\n"
     ]
    }
   ],
   "source": [
    "numerals = {'I':1, 'V':5, 'X':10, \"L\":50, \"C\":100, \"D\":500, \"M\":1000}\n",
    "s = \"MCMXCIV\"\n",
    "chars = list(s)\n",
    "print(chars)\n",
    "for i in range (len(s)-1):\n",
    "    if numerals[chars[i]] < numerals[chars[i+1]]:\n",
    "        newchar = chars[i]+chars[i+1]\n",
    "        print (newchar)"
   ]
  },
  {
   "cell_type": "code",
   "execution_count": 37,
   "id": "83aecf4b",
   "metadata": {},
   "outputs": [
    {
     "name": "stdout",
     "output_type": "stream",
     "text": [
      "['M', 'C', 'M', 'X', 'C', 'I', 'V']\n",
      "1000\n",
      "CM\n",
      "1900\n",
      "XC\n",
      "1990\n",
      "IV\n",
      "1994\n"
     ]
    }
   ],
   "source": [
    "numerals = {'I':1, 'V':5, 'X':10, \"L\":50, \"C\":100, \"D\":500, \"M\":1000, \"IV\":4, \"IX\":9, \"XL\":40, \"XC\":90, \"CD\":400, \"CM\":900}\n",
    "s = \"MCMXCIV\"\n",
    "chars = list(s)\n",
    "print(chars)\n",
    "i=0\n",
    "hindarab=0\n",
    "newchar=[]\n",
    "while i < len(s)-1 :\n",
    "    if numerals[chars[i]] < numerals[chars[i+1]]:\n",
    "        newchar = chars[i]+chars[i+1]\n",
    "        print (newchar)\n",
    "        hindarab=hindarab+numerals[newchar]\n",
    "        i=i+2\n",
    "    else:\n",
    "        hindarab=hindarab+numerals[chars[i]]\n",
    "        i=i+1\n",
    "\n",
    "    print (hindarab)"
   ]
  },
  {
   "cell_type": "code",
   "execution_count": 25,
   "id": "a7b3005b",
   "metadata": {},
   "outputs": [
    {
     "data": {
      "text/plain": [
       "'MC'"
      ]
     },
     "execution_count": 25,
     "metadata": {},
     "output_type": "execute_result"
    }
   ],
   "source": [
    "chars[0]+chars[1]"
   ]
  },
  {
   "cell_type": "code",
   "execution_count": 51,
   "id": "95e0ef82",
   "metadata": {},
   "outputs": [
    {
     "name": "stdout",
     "output_type": "stream",
     "text": [
      "['I', 'I', 'I']\n",
      "2\n",
      "3\n",
      "2\n"
     ]
    }
   ],
   "source": [
    "numerals = {'I':1, 'V':5, 'X':10, \"L\":50, \"C\":100, \"D\":500, \"M\":1000, \"IV\":4, \"IX\":9, \"XL\":40, \"XC\":90, \"CD\":400, \"CM\":900}\n",
    "s = \"III\"\n",
    "chars = list(s)\n",
    "print(chars)\n",
    "i=0\n",
    "hindarab=0\n",
    "newchar=[]\n",
    "while i < len(s)-1 :\n",
    "    if numerals[chars[i]] < numerals[chars[i+1]]:\n",
    "        newchar = chars[i]+chars[i+1]\n",
    "        print (newchar)\n",
    "        hindarab=hindarab+numerals[newchar]\n",
    "        i=i+2\n",
    "    else:\n",
    "        hindarab=hindarab+numerals[chars[i]]\n",
    "        i=i+1\n",
    "print(i)\n",
    "print(len(s))\n",
    "\n",
    "        \n",
    "print (hindarab)"
   ]
  }
 ],
 "metadata": {
  "kernelspec": {
   "display_name": "Python 3 (ipykernel)",
   "language": "python",
   "name": "python3"
  },
  "language_info": {
   "codemirror_mode": {
    "name": "ipython",
    "version": 3
   },
   "file_extension": ".py",
   "mimetype": "text/x-python",
   "name": "python",
   "nbconvert_exporter": "python",
   "pygments_lexer": "ipython3",
   "version": "3.9.7"
  }
 },
 "nbformat": 4,
 "nbformat_minor": 5
}
