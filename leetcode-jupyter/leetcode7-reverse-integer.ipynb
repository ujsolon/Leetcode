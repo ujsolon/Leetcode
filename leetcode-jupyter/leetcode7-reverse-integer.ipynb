{
 "cells": [
  {
   "cell_type": "code",
   "execution_count": 62,
   "id": "3f80e3b4",
   "metadata": {},
   "outputs": [
    {
     "data": {
      "text/plain": [
       "9646324351"
      ]
     },
     "execution_count": 62,
     "metadata": {},
     "output_type": "execute_result"
    }
   ],
   "source": [
    "myInt = 1534236469\n",
    "if myInt <= -2**31-1 or myInt >= 2**31:\n",
    "    ans=0\n",
    "else:\n",
    "    if myInt <0:\n",
    "        myIntpos = abs(myInt)\n",
    "        s = str(myIntpos)\n",
    "        ans = -int(s[::-1])\n",
    "    else:\n",
    "        s = str(myInt)\n",
    "        ans = int(s[::-1])\n",
    "\n",
    "ans"
   ]
  },
  {
   "cell_type": "code",
   "execution_count": 63,
   "id": "6b06aa78",
   "metadata": {
    "scrolled": true
   },
   "outputs": [
    {
     "data": {
      "text/plain": [
       "9646324351"
      ]
     },
     "execution_count": 63,
     "metadata": {},
     "output_type": "execute_result"
    }
   ],
   "source": [
    "myInt = 1534236469\n",
    "if myInt <= -2**31-1 or myInt >= 2**31:\n",
    "    ans=0\n",
    "ans"
   ]
  },
  {
   "cell_type": "code",
   "execution_count": 74,
   "id": "279f1828",
   "metadata": {},
   "outputs": [
    {
     "name": "stdout",
     "output_type": "stream",
     "text": [
      "10\n"
     ]
    },
    {
     "data": {
      "text/plain": [
       "10"
      ]
     },
     "execution_count": 74,
     "metadata": {},
     "output_type": "execute_result"
    }
   ],
   "source": [
    "print(len(list(str(2**31))))\n",
    "      \n",
    "len(list(str(1534236469)))\n"
   ]
  }
 ],
 "metadata": {
  "kernelspec": {
   "display_name": "Python 3 (ipykernel)",
   "language": "python",
   "name": "python3"
  },
  "language_info": {
   "codemirror_mode": {
    "name": "ipython",
    "version": 3
   },
   "file_extension": ".py",
   "mimetype": "text/x-python",
   "name": "python",
   "nbconvert_exporter": "python",
   "pygments_lexer": "ipython3",
   "version": "3.9.7"
  }
 },
 "nbformat": 4,
 "nbformat_minor": 5
}
