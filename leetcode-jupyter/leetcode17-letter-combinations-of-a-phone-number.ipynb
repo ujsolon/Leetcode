{
 "cells": [
  {
   "cell_type": "code",
   "execution_count": 61,
   "id": "352138e1",
   "metadata": {},
   "outputs": [
    {
     "data": {
      "text/plain": [
       "['adh',\n",
       " 'adg',\n",
       " 'adi',\n",
       " 'afh',\n",
       " 'afg',\n",
       " 'afi',\n",
       " 'aeh',\n",
       " 'aeg',\n",
       " 'aei',\n",
       " 'bdh',\n",
       " 'bdg',\n",
       " 'bdi',\n",
       " 'bfh',\n",
       " 'bfg',\n",
       " 'bfi',\n",
       " 'beh',\n",
       " 'beg',\n",
       " 'bei',\n",
       " 'cdh',\n",
       " 'cdg',\n",
       " 'cdi',\n",
       " 'cfh',\n",
       " 'cfg',\n",
       " 'cfi',\n",
       " 'ceh',\n",
       " 'ceg',\n",
       " 'cei']"
      ]
     },
     "execution_count": 61,
     "metadata": {},
     "output_type": "execute_result"
    }
   ],
   "source": [
    "mapping = {'2':{'a','b', 'c'}, '3':{'d','e','f'}, '4':{'g','h','i'}, '5':{'j','k','l'}, '6':{'m','n','o'}, '7':{'p','q','r','s'}, '8':{'t','u','v'}, '9':{'w','x','y','z'}}\n",
    "digits = '23'\n",
    "digits = list(digits)\n",
    "word=[]\n",
    "for nums in digits:\n",
    "    if word==[]:\n",
    "        word=[x for x in mapping[nums]]\n",
    "    else:\n",
    "        word = [x+y for x in word for y in mapping[nums]]\n",
    "\n",
    "word"
   ]
  },
  {
   "cell_type": "code",
   "execution_count": 39,
   "id": "1ea0f4d8",
   "metadata": {},
   "outputs": [
    {
     "data": {
      "text/plain": [
       "['12', '13', '14']"
      ]
     },
     "execution_count": 39,
     "metadata": {},
     "output_type": "execute_result"
    }
   ],
   "source": [
    "list1 = ['1']\n",
    "list2 = ['2','3','4']\n",
    "list3 = [x+y for x in list1 for y in list2]\n",
    "list3"
   ]
  },
  {
   "cell_type": "code",
   "execution_count": 41,
   "id": "6e0debe9",
   "metadata": {},
   "outputs": [
    {
     "data": {
      "text/plain": [
       "['1', ['2', '3', '4'], ['2', '3', '4']]"
      ]
     },
     "execution_count": 41,
     "metadata": {},
     "output_type": "execute_result"
    }
   ],
   "source": [
    "list1.append(list2)\n",
    "list1"
   ]
  },
  {
   "cell_type": "code",
   "execution_count": null,
   "id": "5ec237ed",
   "metadata": {},
   "outputs": [],
   "source": []
  }
 ],
 "metadata": {
  "kernelspec": {
   "display_name": "Python 3 (ipykernel)",
   "language": "python",
   "name": "python3"
  },
  "language_info": {
   "codemirror_mode": {
    "name": "ipython",
    "version": 3
   },
   "file_extension": ".py",
   "mimetype": "text/x-python",
   "name": "python",
   "nbconvert_exporter": "python",
   "pygments_lexer": "ipython3",
   "version": "3.9.7"
  }
 },
 "nbformat": 4,
 "nbformat_minor": 5
}
