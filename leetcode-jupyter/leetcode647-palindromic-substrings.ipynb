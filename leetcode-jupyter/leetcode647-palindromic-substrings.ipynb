{
 "cells": [
  {
   "cell_type": "code",
   "execution_count": 3,
   "id": "be8081f9",
   "metadata": {},
   "outputs": [
    {
     "data": {
      "text/plain": [
       "['a', 'ab', 'abc', 'b', 'bc', 'c']"
      ]
     },
     "execution_count": 3,
     "metadata": {},
     "output_type": "execute_result"
    }
   ],
   "source": [
    "def allSubstrings(s):\n",
    "    res = [s[i: j] for i in range(len(s)) for j in range(i + 1, len(s) + 1)]\n",
    "    return res\n",
    "\n",
    "s = \"abc\"\n",
    "allSubstrings(s)"
   ]
  },
  {
   "cell_type": "code",
   "execution_count": 7,
   "id": "da21fa74",
   "metadata": {},
   "outputs": [
    {
     "data": {
      "text/plain": [
       "True"
      ]
     },
     "execution_count": 7,
     "metadata": {},
     "output_type": "execute_result"
    }
   ],
   "source": [
    "def allSubstrings(s):\n",
    "    res = [s[i: j] for i in range(len(s)) for j in range(i + 1, len(s) + 1)]\n",
    "    return res\n",
    "\n",
    "def isPalindrome(s: str) -> bool:\n",
    "    return s == s[::-1]\n",
    "\n",
    "def countSubstrings(self, s: str) -> int:\n",
    "    subs = allSubstrings(s)\n",
    "    return sum([1 for item in subs  if isPalindrome(item)])\n",
    "\n",
    "s='aba'\n",
    "isPalindrome(s)"
   ]
  },
  {
   "cell_type": "code",
   "execution_count": null,
   "id": "b651d34f",
   "metadata": {},
   "outputs": [],
   "source": []
  }
 ],
 "metadata": {
  "kernelspec": {
   "display_name": "Python 3 (ipykernel)",
   "language": "python",
   "name": "python3"
  },
  "language_info": {
   "codemirror_mode": {
    "name": "ipython",
    "version": 3
   },
   "file_extension": ".py",
   "mimetype": "text/x-python",
   "name": "python",
   "nbconvert_exporter": "python",
   "pygments_lexer": "ipython3",
   "version": "3.9.12"
  }
 },
 "nbformat": 4,
 "nbformat_minor": 5
}
