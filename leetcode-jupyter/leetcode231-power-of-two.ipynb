{
 "cells": [
  {
   "cell_type": "code",
   "execution_count": 17,
   "id": "d3f9cb8c",
   "metadata": {},
   "outputs": [
    {
     "data": {
      "text/plain": [
       "False"
      ]
     },
     "execution_count": 17,
     "metadata": {},
     "output_type": "execute_result"
    }
   ],
   "source": [
    "class Solution:\n",
    "    def isPowerOfTwo(n: int) -> bool:\n",
    "        twoPower = 1\n",
    "        flag=0\n",
    "        if n==1:\n",
    "            return True\n",
    "        if n<=0:\n",
    "            return False\n",
    "        while twoPower<=n and flag==0:\n",
    "            if n==twoPower:\n",
    "                flag=1\n",
    "                return True\n",
    "            twoPower = twoPower*2\n",
    "        if flag==0:\n",
    "            return False\n",
    "\n",
    "n=-2\n",
    "Solution.isPowerOfTwo(n)"
   ]
  },
  {
   "cell_type": "code",
   "execution_count": null,
   "id": "18b984c6",
   "metadata": {},
   "outputs": [],
   "source": []
  }
 ],
 "metadata": {
  "kernelspec": {
   "display_name": "Python 3 (ipykernel)",
   "language": "python",
   "name": "python3"
  },
  "language_info": {
   "codemirror_mode": {
    "name": "ipython",
    "version": 3
   },
   "file_extension": ".py",
   "mimetype": "text/x-python",
   "name": "python",
   "nbconvert_exporter": "python",
   "pygments_lexer": "ipython3",
   "version": "3.9.7"
  }
 },
 "nbformat": 4,
 "nbformat_minor": 5
}
